{
 "cells": [
  {
   "cell_type": "code",
   "execution_count": 680,
   "metadata": {},
   "outputs": [],
   "source": [
    "import numpy as np\n",
    "import copy\n",
    "import colorama\n",
    "from colorama import Fore, Style\n",
    "import matplotlib.pyplot as plt\n",
    "from sklearn.datasets import make_moons\n",
    "from sklearn.model_selection import train_test_split\n",
    "from sklearn.preprocessing import StandardScaler\n",
    "from matplotlib.colors import ListedColormap"
   ]
  },
  {
   "cell_type": "markdown",
   "metadata": {},
   "source": [
    "# Activation Functions"
   ]
  },
  {
   "cell_type": "code",
   "execution_count": 601,
   "metadata": {},
   "outputs": [],
   "source": [
    "#List of activation functions\n",
    "activation_functions = list()"
   ]
  },
  {
   "cell_type": "markdown",
   "metadata": {},
   "source": [
    "#### SIGMOID"
   ]
  },
  {
   "cell_type": "code",
   "execution_count": 602,
   "metadata": {},
   "outputs": [],
   "source": [
    "# Sigmoid Function\n",
    "def sigmoid(net):\n",
    "    \"\"\"\n",
    "    Args:\n",
    "        net (numpy array): matrix of net for all inputs\n",
    "    \n",
    "    Returns:\n",
    "        ret (numpy array): matrix of sigmoid of all elements in net \n",
    "    \"\"\"\n",
    "        \n",
    "    ret = 1/(1+np.exp(-net))\n",
    "    return ret\n",
    "\n",
    "activation_functions.append(sigmoid)"
   ]
  },
  {
   "cell_type": "code",
   "execution_count": 603,
   "metadata": {},
   "outputs": [
    {
     "name": "stdout",
     "output_type": "stream",
     "text": [
      "0.9975273768433653\n"
     ]
    }
   ],
   "source": [
    "#TEST SIGMOID\n",
    "print(sigmoid(6))"
   ]
  },
  {
   "cell_type": "markdown",
   "metadata": {},
   "source": [
    "#### RELU"
   ]
  },
  {
   "cell_type": "code",
   "execution_count": 604,
   "metadata": {},
   "outputs": [],
   "source": [
    "# Rectified Linear Unit\n",
    "def relu(net):\n",
    "    \"\"\"\n",
    "    Args:\n",
    "        net (numpy array): numpy array of nets\n",
    "    \n",
    "    Return:\n",
    "        ret (numpy array): matrix of relu of all elements in net \n",
    "    \"\"\"\n",
    "    \n",
    "    ret = np.maximum(net, 0) #https://stackoverflow.com/questions/33569668/numpy-max-vs-amax-vs-maximum\n",
    "    return ret\n",
    "\n",
    "activation_functions.append(relu)"
   ]
  },
  {
   "cell_type": "code",
   "execution_count": 605,
   "metadata": {
    "scrolled": true
   },
   "outputs": [
    {
     "name": "stdout",
     "output_type": "stream",
     "text": [
      "[[0 1 2 3 4 5 6 7 8 9]\n",
      " [0 1 2 3 4 5 6 7 8 9]\n",
      " [0 0 0 0 0 0 0 0 0 0]]\n"
     ]
    }
   ],
   "source": [
    "#TEST RELU\n",
    "net  = np.array([[0, 1, 2, 3, 4, 5, 6, 7, 8, 9], [0, 1, 2, 3, 4, 5, 6, 7, 8, 9],[0, -1, -2, -3, -4, -5, -6, -7, -8, -9]])\n",
    "print(relu(net))"
   ]
  },
  {
   "cell_type": "markdown",
   "metadata": {},
   "source": [
    "#### SOFTMAX (note this will be used only in the last layer of a NN)"
   ]
  },
  {
   "cell_type": "code",
   "execution_count": 606,
   "metadata": {},
   "outputs": [],
   "source": [
    "# Softmax\n",
    "def softmax(net):\n",
    "    \"\"\"\n",
    "    Args:\n",
    "        net (numpy array): matrix of net for all inputs\n",
    "    \n",
    "    Returns:\n",
    "        ret (numpy array): matrix of softmax of all elements in net \n",
    "    \"\"\"\n",
    "    \n",
    "    e_net = np.exp(net)\n",
    "    sum_e_net = np.sum(e_net, axis = 0)\n",
    "    ret = e_net / sum_e_net # broadcast division\n",
    "    return  ret\n",
    "\n",
    "\n",
    "activation_functions.append(softmax)"
   ]
  },
  {
   "cell_type": "code",
   "execution_count": 607,
   "metadata": {},
   "outputs": [
    {
     "name": "stdout",
     "output_type": "stream",
     "text": [
      "[[0.00426978]\n",
      " [0.01160646]\n",
      " [0.03154963]\n",
      " [0.08576079]\n",
      " [0.23312201]\n",
      " [0.63369132]]\n",
      "--------------------\n",
      "[[0.00426978]\n",
      " [0.01160646]\n",
      " [0.03154963]\n",
      " [0.08576079]\n",
      " [0.23312201]\n",
      " [0.63369132]]\n"
     ]
    }
   ],
   "source": [
    "# TEST SOFTMAX (n x 1 dim)\n",
    "lst = [0,1,2,3,4,5]\n",
    "net = np.asarray(lst).reshape(6,1)\n",
    "\n",
    "tot = 0\n",
    "for i in range(len(lst)):\n",
    "    e_x = np.exp(lst[i])\n",
    "    lst[i] = e_x\n",
    "    tot = tot + e_x\n",
    "\n",
    "for i in range(len(lst)):\n",
    "    lst[i] = lst[i]/tot\n",
    "    \n",
    "print(np.asarray(lst).reshape(6,1))\n",
    "print(\"--------------------\")\n",
    "print(softmax(net))\n"
   ]
  },
  {
   "cell_type": "code",
   "execution_count": 608,
   "metadata": {},
   "outputs": [
    {
     "name": "stdout",
     "output_type": "stream",
     "text": [
      "[[0.00426978 0.00426978 0.00426978]\n",
      " [0.01160646 0.01160646 0.01160646]\n",
      " [0.03154963 0.03154963 0.03154963]\n",
      " [0.08576079 0.08576079 0.08576079]\n",
      " [0.23312201 0.23312201 0.23312201]\n",
      " [0.63369132 0.63369132 0.63369132]]\n",
      "------------------------------------------\n",
      "[[0.00426978 0.00426978 0.00426978]\n",
      " [0.01160646 0.01160646 0.01160646]\n",
      " [0.03154963 0.03154963 0.03154963]\n",
      " [0.08576079 0.08576079 0.08576079]\n",
      " [0.23312201 0.23312201 0.23312201]\n",
      " [0.63369132 0.63369132 0.63369132]]\n"
     ]
    }
   ],
   "source": [
    "# TEST SOFTMAX (m x n)\n",
    "lst = [[0,1,2,3,4,5],[0,1,2,3,4,5],[0,1,2,3,4,5]]\n",
    "net = np.transpose(np.asarray(lst))\n",
    "\n",
    "lst_tot = list()\n",
    "for i in range(len(lst)):\n",
    "    tot = 0\n",
    "    for j in range(len(lst[i])):\n",
    "        \n",
    "        e_x = np.exp(lst[i][j])\n",
    "        lst[i][j] = e_x\n",
    "        tot = tot + e_x\n",
    "    lst_tot.append(tot)\n",
    "        \n",
    "        \n",
    "# print(np.asarray(lst_tot))\n",
    "\n",
    "for i in range(len(lst)):\n",
    "    tot = 0\n",
    "    for j in range(len(lst[i])):\n",
    "        lst[i][j] = lst[i][j] / lst_tot[i]\n",
    "        \n",
    "    \n",
    "print(np.transpose(np.asarray(lst)))\n",
    "print(\"------------------------------------------\")\n",
    "print(softmax(net))\n"
   ]
  },
  {
   "cell_type": "markdown",
   "metadata": {},
   "source": [
    "# Define & Initialize parameters of the NN"
   ]
  },
  {
   "cell_type": "markdown",
   "metadata": {},
   "source": [
    "#### Helper Functions"
   ]
  },
  {
   "cell_type": "code",
   "execution_count": 609,
   "metadata": {},
   "outputs": [],
   "source": [
    "#check if last choice is valid i.e. sigmoid for one or softmax for more than two \n",
    "# also restrict last layer output to 1 or more than 2\n",
    "def check_params(params):\n",
    "    flag = True\n",
    "    \n",
    "    # If lenght is less than 1 raise flag\n",
    "    if len(params) < 1:\n",
    "        flag = False\n",
    "        return flag\n",
    "    \n",
    "    # if length is exactly 1\n",
    "    if len(params) == 1 :\n",
    "        # len == 3, first two is int and last is a function\n",
    "        if len(params[0]) == 3 :\n",
    "            if not isinstance(params[0][0],int) or not isinstance(params[0][1],int):\n",
    "                print(Fore.RED+\"Dimensions should be int!!\"+Style.RESET_ALL)\n",
    "                flag = False\n",
    "                return flag\n",
    "            if params[0][2] not in activation_functions:\n",
    "                print(Fore.RED+\"Not an activation function!!\"+Style.RESET_ALL)\n",
    "                flag = False\n",
    "                return flag\n",
    "\n",
    "        else:\n",
    "            flag = False\n",
    "            return flag\n",
    "    # if length greater than 1\n",
    "    else:    \n",
    "        # If length of each list inside params are not equal then raise flag\n",
    "        '''\n",
    "        for finding if every element is same in a list\n",
    "        https://stackoverflow.com/questions/3844801/check-if-all-elements-in-a-list-are-identical/3844832#3844832\n",
    "        '''\n",
    "        convert_set = set(map(len, params)) # map with length and convert to set BEING LAZY\n",
    "        if len(convert_set) != 1:\n",
    "            print(Fore.RED+\"Each list of param must be of size 3!!\"+Style.RESET_ALL)\n",
    "            flag = False\n",
    "            return flag\n",
    "\n",
    "        # If dimensions mismatch raise flag\n",
    "        index = 0\n",
    "        while(True):\n",
    "            if not isinstance(params[index][0],int) or not isinstance(params[index][1],int):\n",
    "                print(Fore.RED+\"Dimensions should be int!!\"+ \" Check arg at index \" + str(index)+\"!!\"+Style.RESET_ALL)\n",
    "                flag = False\n",
    "                return flag\n",
    "            \n",
    "            if not isinstance(params[index+1][0],int) or not isinstance(params[index+1][1],int):\n",
    "                print(Fore.RED+\"Dimensions should be int!!\"+ \" Check arg at index \" + str(index)+\"!!\"+Style.RESET_ALL)\n",
    "                flag = False\n",
    "                return flag\n",
    "            \n",
    "            if params[index][1] != params[index+1][0]:\n",
    "                print(Fore.RED+\"Dimension Mismatch!!\" + \" Check arg at index \" + str(index)+\"!!\" + \" and \" + \n",
    "                      str(index+1)+\"!!\"+Style.RESET_ALL)\n",
    "                flag = False\n",
    "                return flag\n",
    "            index = index + 1\n",
    "            if index == len(params)-1:\n",
    "                break\n",
    "                \n",
    "        # all are valid functions in 3rd place\n",
    "        for index in range(len(params)):\n",
    "            if params[index][2] not in activation_functions:\n",
    "                print(Fore.RED+\"Not an activation function!!\" + \" Check arg at index \" + str(index)+\"!!\"+Style.RESET_ALL)\n",
    "                flag = False\n",
    "                return flag\n",
    "        \n",
    "    return flag\n",
    "        "
   ]
  },
  {
   "cell_type": "code",
   "execution_count": 610,
   "metadata": {},
   "outputs": [
    {
     "name": "stdout",
     "output_type": "stream",
     "text": [
      "False\n",
      "False\n",
      "\u001b[31mDimensions should be int!!\u001b[0m\n",
      "False\n",
      "\u001b[31mNot an activation function!!\u001b[0m\n",
      "False\n",
      "True\n",
      "True\n",
      "\u001b[31mDimension Mismatch!! Check arg at index 0!! and 1!!\u001b[0m\n",
      "False\n",
      "\u001b[31mEach list of param must be of size 3!!\u001b[0m\n",
      "False\n"
     ]
    }
   ],
   "source": [
    "# TEST check_params()\n",
    "params_1 = []\n",
    "params_2 = [[]]\n",
    "params_3 = [[12,\"s\",sigmoid]]\n",
    "params_4 = [[12,12,13]]\n",
    "params_5 = [[12,10,relu]]\n",
    "params_6 = [[12,10,relu],[10,12,sigmoid]]\n",
    "params_7 = [[12,10,relu],[11,12,sigmoid]]\n",
    "params_8 = [[12,10,relu],[12,sigmoid]]\n",
    "\n",
    "print(check_params(params_1))\n",
    "print(check_params(params_2))\n",
    "print(check_params(params_3))\n",
    "print(check_params(params_4))\n",
    "print(check_params(params_5))\n",
    "print(check_params(params_6))\n",
    "print(check_params(params_7))\n",
    "print(check_params(params_8))"
   ]
  },
  {
   "cell_type": "markdown",
   "metadata": {},
   "source": [
    "#### Function initialize_nn_parameters()"
   ]
  },
  {
   "cell_type": "code",
   "execution_count": 611,
   "metadata": {},
   "outputs": [],
   "source": [
    "def initialize_nn_parameters(params):\n",
    "    \n",
    "    \"\"\"Initializes the weights and biases of the neural network\n",
    "    Args:\n",
    "        params (list of lists): A list of lists where each list represents a layer in the neural network.\n",
    "                               The lists must have follwing format\n",
    "                               [dimension_input, dimension_output, activation_function]\n",
    "    Returns:\n",
    "        deep_parameters (dictionary): A dictionary of initialized parameters for the neural network as defined \n",
    "    \"\"\"\n",
    "    if not check_params(params):\n",
    "        print(Fore.RED+\"ERROR IN PARAMS!!\"+Style.RESET_ALL)\n",
    "        pass\n",
    "    \n",
    "    deep_parameters = dict()\n",
    "    \n",
    "    count = 0\n",
    "    for layers in params:\n",
    "        '''\n",
    "        note the dimension of weight matrix for a layer with (n input and m output)\n",
    "        will be (n x m) \n",
    "        and dimension of the bias will be (m x 1)\n",
    "        '''\n",
    "        #arXiv:1704.08863v2 [cs.LG] 2 May 2017 On weight initialization in deep neural networks Siddharth Krishna Kumar\n",
    "        deep_parameters[\"weights_\" + str(count+1)] = (np.random.randn(layers[1], layers[0])) *  np.sqrt(2.0/layers[0])\n",
    "        deep_parameters[\"bias_\" + str(count+1)] = np.zeros((layers[1],1))\n",
    "        deep_parameters[\"activation_\" + str(count+1)] = layers[2]\n",
    "        \n",
    "        #dimensions sanity check\n",
    "        assert (deep_parameters[\"weights_\" + str(count+1)].shape == (layers[1], layers[0]))\n",
    "        assert (deep_parameters[\"bias_\" + str(count+1)].shape == (layers[1], 1))\n",
    "        \n",
    "        count = count + 1\n",
    "        \n",
    "    return deep_parameters\n",
    "        "
   ]
  },
  {
   "cell_type": "code",
   "execution_count": 612,
   "metadata": {},
   "outputs": [],
   "source": [
    "def initialize_nn_parameters(params):\n",
    "    \n",
    "    \"\"\"Initializes the weights and biases of the neural network\n",
    "    Args:\n",
    "        params (list of lists): A list of lists where each list represents a layer in the neural network.\n",
    "                               The lists must have follwing format\n",
    "                               [dimension_input, dimension_output, activation_function]\n",
    "    Returns:\n",
    "        deep_parameters (dictionary): A dictionary of initialized parameters for the neural network as defined \n",
    "    \"\"\"\n",
    "    if not check_params(params):\n",
    "        print(Fore.RED+\"ERROR IN PARAMS!!\"+Style.RESET_ALL)\n",
    "        pass\n",
    "    \n",
    "    deep_parameters = list()\n",
    "    \n",
    "    count = 0\n",
    "    for layers in params:\n",
    "        '''\n",
    "        note the dimension of weight matrix for a layer with (n input and m output)\n",
    "        will be (n x m) \n",
    "        and dimension of the bias will be (m x 1)\n",
    "        '''\n",
    "        temp_lst = list()\n",
    "        #arXiv:1704.08863v2 [cs.LG] 2 May 2017 On weight initialization in deep neural networks Siddharth Krishna Kumar\n",
    "        weights = (np.random.randn(layers[1], layers[0])) *  np.sqrt(2.0/layers[0])\n",
    "        biases = np.zeros((layers[1],1))\n",
    "        temp_lst.extend([weights, biases, layers[2]])\n",
    "        \n",
    "        #dimensions sanity check\n",
    "        assert (weights.shape == (layers[1], layers[0]))\n",
    "        assert (biases.shape == (layers[1], 1))\n",
    "        \n",
    "        #append to deep_parameters\n",
    "        deep_parameters.append(temp_lst)\n",
    "        count = count + 1\n",
    "        \n",
    "    return deep_parameters\n",
    "        "
   ]
  },
  {
   "cell_type": "code",
   "execution_count": 613,
   "metadata": {},
   "outputs": [
    {
     "name": "stdout",
     "output_type": "stream",
     "text": [
      "[[array([[-1.19394083, -1.10279561],\n",
      "       [ 0.69054717, -2.10433533],\n",
      "       [-1.3971267 ,  0.18493399]]), array([[0.],\n",
      "       [0.],\n",
      "       [0.]]), <function relu at 0x0000020AA643A7B8>], [array([[-0.29062839, -0.29200773,  0.33320761]]), array([[0.]]), <function sigmoid at 0x0000020AA643A9D8>]]\n"
     ]
    }
   ],
   "source": [
    "#test initialize_nn_parameters()\n",
    "deep_parameters = initialize_nn_parameters([[2,3,relu],[3,1,sigmoid]])\n",
    "print(deep_parameters)"
   ]
  },
  {
   "cell_type": "markdown",
   "metadata": {},
   "source": [
    "\n",
    "# Forward Propagation"
   ]
  },
  {
   "cell_type": "markdown",
   "metadata": {},
   "source": [
    "#### Helper Functions"
   ]
  },
  {
   "cell_type": "code",
   "execution_count": 639,
   "metadata": {},
   "outputs": [],
   "source": [
    "def calculate_net(layer_input, layer_weight, layer_bias):\n",
    "    \"\"\"Calculates the linear combination of weight multiplied by input and adds bias of a layer\n",
    "    Args:\n",
    "        layer_input (numpy array): numpy array of inputs of the layer\n",
    "        layer_weight (numpy array): numpy array of weights of the layer\n",
    "        layer_bias (numpy array): numpy array of biases of the layer\n",
    "    Returns:\n",
    "        net (numpy array): numpy array of (layer_weight * layer_input) + layer_bias\n",
    "    \"\"\"\n",
    "    net = np.dot(layer_weight, layer_input) + layer_bias\n",
    "    return net"
   ]
  },
  {
   "cell_type": "markdown",
   "metadata": {},
   "source": [
    "#### Function forward_propagation"
   ]
  },
  {
   "cell_type": "code",
   "execution_count": 640,
   "metadata": {},
   "outputs": [],
   "source": [
    "def forward_propagation(deep_parameters, dataset_X):\n",
    "    \"\"\"Calculates the forward propagation of the neural network given the inputs and its initialized parameters\n",
    "    Args:\n",
    "        dataset_X (numpy array): numpy array containing features of the dataset\n",
    "        deep_parameters (list of list): list of list containing all initialized parameters of the neural network\n",
    "    Returns:\n",
    "        \n",
    "    \"\"\"\n",
    "    \n",
    "    out_prev = dataset_X\n",
    "    for layer in deep_parameters:\n",
    "        net = calculate_net(out_prev, layer[0], layer[1])\n",
    "        out = layer[2](net)\n",
    "        \n",
    "        #check sanity\n",
    "        assert (out.shape == (layer[0].shape[0], out_prev.shape[1]))\n",
    "        \n",
    "        # IMPORTANT: After first forward prop during gradient descent, we must replace layer[3] with out not append\n",
    "        if len(layer) == 3:\n",
    "            layer.append(out)\n",
    "        else:\n",
    "            layer[3] = out\n",
    "        \n",
    "        \n",
    "        out_prev = out\n",
    "    # Still to decide weather to return  \n",
    "    return deep_parameters   \n",
    "        \n",
    "        "
   ]
  },
  {
   "cell_type": "code",
   "execution_count": 641,
   "metadata": {},
   "outputs": [
    {
     "name": "stdout",
     "output_type": "stream",
     "text": [
      "[[array([[1, 2],\n",
      "       [1, 2],\n",
      "       [1, 2]]), array([[0.],\n",
      "       [0.],\n",
      "       [0.]]), <function relu at 0x0000020AA643A7B8>, array([[3., 6.],\n",
      "       [3., 6.],\n",
      "       [3., 6.]])], [array([[1, 2, 3]]), array([[0.]]), <function relu at 0x0000020AA643A7B8>, array([[18., 36.]])]]\n"
     ]
    }
   ],
   "source": [
    "# test forward_propagation()\n",
    "deep_parameters = [[np.asarray([[1, 2],[1, 2],[1, 2]]), np.asarray([[0.],[0.],[0.]]), relu], \n",
    "                   [np.asarray([[1,  2,  3]]), np.asarray([[0.]]), relu]]\n",
    "dataset_X = np.asarray([[1,2],[1,2]])\n",
    "\n",
    "out = forward_propagation(deep_parameters, dataset_X)\n",
    "print(out)"
   ]
  },
  {
   "cell_type": "code",
   "execution_count": 642,
   "metadata": {},
   "outputs": [],
   "source": [
    "def forward_propagation_fast(deep_parameters, dataset_X):\n",
    "    \"\"\"Calculates the forward propagation of the neural network given the inputs and its initialized parameters\n",
    "    Args:\n",
    "        dataset_X (numpy array): numpy array containing features of the dataset\n",
    "        out (numpy array) : output of the last layer\n",
    "    Returns:\n",
    "        \n",
    "    \"\"\"\n",
    "    \n",
    "    out_prev = dataset_X\n",
    "    for layer in deep_parameters:\n",
    "        net = calculate_net(out_prev, layer[0], layer[1])\n",
    "        out = layer[2](net)\n",
    "        \n",
    "        #check sanity\n",
    "        assert (out.shape == (layer[0].shape[0], out_prev.shape[1]))\n",
    "        \n",
    "        \n",
    "        \n",
    "        out_prev = out\n",
    "    \n",
    "    \n",
    "    return out   \n",
    "        \n",
    "        "
   ]
  },
  {
   "cell_type": "markdown",
   "metadata": {},
   "source": [
    "# Cost Function"
   ]
  },
  {
   "cell_type": "markdown",
   "metadata": {},
   "source": [
    "#### Log Loss"
   ]
  },
  {
   "cell_type": "code",
   "execution_count": 643,
   "metadata": {},
   "outputs": [],
   "source": [
    "#log loss\n",
    "def log_loss_cost(out, dataset_Y):\n",
    "    \"\"\"\n",
    "    Args:\n",
    "        out (numpy array): numpy array containing the prediction of the neural network\n",
    "        dataset_Y (numpy array): numpy array containing true labels of the dataset\n",
    "        \n",
    "    Returns:\n",
    "        cost (numpy array): numpy array containing the avg cross-entropy cost\n",
    "    \"\"\"\n",
    "    m = dataset_Y.shape[1]\n",
    "    \n",
    "#     if dataset_Y.shape[0] != 1 or out.shape[0] != 1:\n",
    "#         print(Fore.RED+\"The dimension of row should be 1\"+Style.RESET_ALL)\n",
    "#         pass\n",
    "    \n",
    "    #dimensions sanity check\n",
    "    assert (dataset_Y.shape[0] == 1), \"The dimension of row for argument: dataset_Y should be 1\"\n",
    "    assert (out.shape[0] == 1), \"The dimension of row for argument: out should be 1\"\n",
    "    assert (out.shape == dataset_Y.shape), \"The shape of argument: out and argument: dataset_Y should be equal\"\n",
    "    \n",
    "    #log loss\n",
    "    cost = np.sum(dataset_Y * np.log(out) + (1 - dataset_Y) * np.log(1 - out)) / -m\n",
    "    cost = np.squeeze(cost) #squeez because we need a value and not an numpy array\n",
    "    return cost"
   ]
  },
  {
   "cell_type": "code",
   "execution_count": 644,
   "metadata": {},
   "outputs": [
    {
     "name": "stdout",
     "output_type": "stream",
     "text": [
      "12.664218011452874\n",
      "-----------------------------------\n",
      "5.500025250158457e-06\n"
     ]
    }
   ],
   "source": [
    "#test log_loss_cost\n",
    "out = np.asarray([0.00001,.999999]).reshape(1,2) #predicts almost opposite\n",
    "dataset_Y = np.asarray([1,0]).reshape(1,2)\n",
    "print(log_loss_cost(out, dataset_Y))\n",
    "\n",
    "print(\"-----------------------------------\")\n",
    "out = np.asarray([.999999,.00001]).reshape(1,2) #predicts almost same\n",
    "dataset_Y = np.asarray([1,0]).reshape(1,2)\n",
    "print(log_loss_cost(out, dataset_Y))"
   ]
  },
  {
   "cell_type": "markdown",
   "metadata": {},
   "source": [
    "#### Cross Entropy"
   ]
  },
  {
   "cell_type": "code",
   "execution_count": 645,
   "metadata": {},
   "outputs": [],
   "source": [
    "#cross-entropy Loss\n",
    "def cross_entropy_cost(out, dataset_Y):\n",
    "    \"\"\"\n",
    "    Args:\n",
    "        out (numpy array): numpy array containing the prediction of the neural network\n",
    "        dataset_Y (numpy array): numpy array containing true labels of the dataset\n",
    "        \n",
    "    Returns:\n",
    "        cost (numpy array): numpy array containing the avg cross-entropy cost\n",
    "    \"\"\"\n",
    "    m = dataset_Y.shape[1]\n",
    "    \n",
    "    #dimensions sanity check\n",
    "    assert (dataset_Y.shape[0] > 2), \"The dimension of row for argument: dataset_Y should be greater than 2\"\n",
    "    assert (out.shape[0] > 2), \"The dimension of row for argument: out should be greater than 2\"\n",
    "    assert (out.shape == dataset_Y.shape), \"The shape of argument: out and argument: dataset_Y should be equal\"\n",
    "    \n",
    "    #cross entropy\n",
    "    cost = np.sum(dataset_Y * np.log(out)) / -m\n",
    "    cost = np.squeeze(cost)\n",
    "    return cost\n",
    "    \n",
    "    "
   ]
  },
  {
   "cell_type": "code",
   "execution_count": 646,
   "metadata": {},
   "outputs": [
    {
     "name": "stdout",
     "output_type": "stream",
     "text": [
      "1.0000050000287824e-05\n",
      "--------------------------------\n",
      "11.512925464970229\n"
     ]
    }
   ],
   "source": [
    "#test cross_entropy_cost()\n",
    "dataset_Y = np.asarray([[0,1,0,0],[0,0,1,0],[1,0,0,0],[0,0,0,1]])\n",
    "out = np.asarray([[0.00001, 0.99999, 0.00001, 0.00001],\n",
    " [0.00001, 0.00001, 0.99999, 0.00001],\n",
    " [0.99999, 0.00001, 0.00001, 0.00001],\n",
    " [0.00001, 0.00001, 0.00001, 0.99999]])\n",
    "print(cross_entropy_cost(out, dataset_Y)) #when predictions almost match\n",
    "\n",
    "print(\"--------------------------------\")\n",
    "\n",
    "out = np.asarray([[0.99999, 0.00001, 0.99999, 0.99999],\n",
    " [0.99999, 0.99999, 0.00001, 0.99999],\n",
    " [0.00001, 0.99999, 0.99999, 0.99999],\n",
    " [0.99999, 0.99999, 0.99999, 0.00001]])\n",
    "print(cross_entropy_cost(out,dataset_Y)) #when predictions almost opposite"
   ]
  },
  {
   "cell_type": "markdown",
   "metadata": {},
   "source": [
    "# Backpropagation"
   ]
  },
  {
   "cell_type": "markdown",
   "metadata": {},
   "source": [
    "#### Dirivative of relu w.r.t net"
   ]
  },
  {
   "cell_type": "code",
   "execution_count": 647,
   "metadata": {},
   "outputs": [],
   "source": [
    "def derivative_relu(value):\n",
    "        derivative = None\n",
    "        if value > 0:\n",
    "                derivative = 1\n",
    "        if value <= 0:\n",
    "                derivative = 0\n",
    "                \n",
    "        return derivative\n",
    "\n",
    "def back_prop_relu(out):\n",
    "    \"\"\"Calculates the derivative of relu w.r.t net\n",
    "    Args:\n",
    "        out (numpy array): output of applying relu to net\n",
    "    Returns:\n",
    "        d_relu_net (numpy): derivative of relu w.r.t net\n",
    "    \"\"\"\n",
    "    \n",
    "    func = np.vectorize(derivative_relu)\n",
    "    d_relu_net = func(out)\n",
    "    \n",
    "    return d_relu_net\n",
    "    "
   ]
  },
  {
   "cell_type": "code",
   "execution_count": 648,
   "metadata": {},
   "outputs": [
    {
     "name": "stdout",
     "output_type": "stream",
     "text": [
      "[[1 0]\n",
      " [1 1]\n",
      " [0 1]]\n"
     ]
    }
   ],
   "source": [
    "#test back_prop_relu\n",
    "a = np.asarray([[ 0.9825794 ,  -0.6177642 ],\n",
    "       [ 0.36084044,  0.72553123],\n",
    "       [-1.00062731,  0.24385089]])\n",
    "\n",
    "x = back_prop_relu(a)\n",
    "print(x)"
   ]
  },
  {
   "cell_type": "markdown",
   "metadata": {},
   "source": [
    "#### Derivative of sigmoid w.r.t net"
   ]
  },
  {
   "cell_type": "code",
   "execution_count": 649,
   "metadata": {},
   "outputs": [],
   "source": [
    "def back_prop_sigmoid(out):\n",
    "    \n",
    "    d_sigmoid_net = out * (1 - out)\n",
    "    return d_sigmoid_net"
   ]
  },
  {
   "cell_type": "code",
   "execution_count": 650,
   "metadata": {},
   "outputs": [
    {
     "name": "stdout",
     "output_type": "stream",
     "text": [
      "[[0.2275 0.    ]\n",
      " [0.25   0.21  ]\n",
      " [0.     0.09  ]]\n"
     ]
    }
   ],
   "source": [
    "#test back_prop_sigmoid\n",
    "a = np.asarray([[ 0.35 ,  0],\n",
    "       [ 0.5,  0.7],\n",
    "       [0,  .9]])\n",
    "\n",
    "x = back_prop_sigmoid(a)\n",
    "print(x)"
   ]
  },
  {
   "cell_type": "markdown",
   "metadata": {},
   "source": [
    "#### Back Propagation"
   ]
  },
  {
   "cell_type": "code",
   "execution_count": 651,
   "metadata": {},
   "outputs": [],
   "source": [
    "def backward_propagation(deep_parameters, dataset_X, dataset_Y):\n",
    "    \n",
    "    \n",
    "    depth = len(deep_parameters)\n",
    "    '''\n",
    "    \n",
    "    '''\n",
    "    weight__layer_front = None\n",
    "    out__layer_back = None\n",
    "    passed_back = None\n",
    "    to_pass_back = None\n",
    "    d_func = None\n",
    "    m = dataset_Y.shape[1]\n",
    "    derivatives = list()\n",
    "    \n",
    "    for index in range(depth-1, -1, -1):\n",
    "        \n",
    "        '''Handle back prpopagation for single layer NN or the last layer for multi layer NN\n",
    "        '''\n",
    "        if index == depth - 1:\n",
    "            to_pass_back = deep_parameters[index][3] - dataset_Y\n",
    "            \n",
    "            if depth == 1:\n",
    "                out__layer_back = dataset_X\n",
    "            else:\n",
    "                out__layer_back = deep_parameters[index - 1][3]\n",
    "                \n",
    "            d_w = np.dot(to_pass_back, out__layer_back.T) / m\n",
    "            d_b = np.sum(to_pass_back, axis = 1, keepdims = True) / m\n",
    "            derivatives.insert(0,[d_w, d_b])\n",
    "            passed_back = to_pass_back\n",
    "\n",
    "            assert (d_w.shape == deep_parameters[index][0].shape)\n",
    "            assert (d_b.shape == deep_parameters[index][1].shape)\n",
    "            continue\n",
    "            \n",
    "        '''Handles back prpopagation for the other layers \n",
    "        '''    \n",
    "        #1. Get the weights of the layer in front\n",
    "        weight__layer_front = deep_parameters[index + 1][0]\n",
    "        \n",
    "        #2. Get the out of previous layer\n",
    "        if index == 0:\n",
    "            out__layer_back = dataset_X\n",
    "        else:\n",
    "            out__layer_back = deep_parameters[index - 1][3]\n",
    "        \n",
    "        #3. Check what your activation is for the current layer\n",
    "        if deep_parameters[index][2] == sigmoid:\n",
    "            d_func_net = back_prop_sigmoid(deep_parameters[index][3])\n",
    "        \n",
    "        if deep_parameters[index][2] == relu:\n",
    "            d_func_net = back_prop_relu(deep_parameters[index][3])\n",
    "        \n",
    "        #4. Calculate the array that needs to be passed back to the layer behind\n",
    "#         print(index)\n",
    "        to_pass_back = np.dot(weight__layer_front.T, passed_back) * d_func_net\n",
    "        \n",
    "        #5. Calculate change in weights and bias of the current layer\n",
    "        d_w = np.dot(to_pass_back, out__layer_back.T) / m \n",
    "        d_b = np.sum(to_pass_back, axis = 1, keepdims= True) / m\n",
    "        \n",
    "        #6. Add them to the derivatives list\n",
    "        derivatives.insert(0,[d_w, d_b])\n",
    "        passed_back = to_pass_back\n",
    "        \n",
    "\n",
    "        assert (passed_back.shape == deep_parameters[index][3].shape)\n",
    "        assert (d_w.shape == deep_parameters[index][0].shape)\n",
    "        assert (d_b.shape == deep_parameters[index][1].shape)\n",
    "     \n",
    "    return derivatives"
   ]
  },
  {
   "cell_type": "code",
   "execution_count": 652,
   "metadata": {},
   "outputs": [
    {
     "name": "stdout",
     "output_type": "stream",
     "text": [
      "[[array([[ 0.43566018, -0.51296464],\n",
      "       [-0.16177386,  0.15132143]]), array([[0.],\n",
      "       [0.]]), <function sigmoid at 0x0000020AA643A9D8>], [array([[ 0.16856141,  1.27803771],\n",
      "       [-0.8112882 ,  0.48417779]]), array([[0.],\n",
      "       [0.]]), <function sigmoid at 0x0000020AA643A9D8>], [array([[0.05183232, 0.39333631]]), array([[0.]]), <function sigmoid at 0x0000020AA643A9D8>]]\n",
      "----------------------------------------------------------------------------------------------------------------\n",
      "0.6593941995042552\n",
      "[[array([[ 0.00196958,  0.00516519],\n",
      "       [-0.00307982, -0.00768764]]), array([[ 0.0010652 ],\n",
      "       [-0.00153594]])], [array([[-0.00018113, -0.00070417],\n",
      "       [-0.00159686, -0.00620557]]), array([[-0.00116087],\n",
      "       [-0.01023003]])], [array([[-0.07231972, -0.05674797]]), array([[-0.10476467]])]]\n"
     ]
    }
   ],
   "source": [
    "#test back_propagation\n",
    "params = [[2,2,sigmoid], [2,2,sigmoid], [2,1,sigmoid]]\n",
    "dataset_X = np.asarray([[1,2,3],[4,5,6]])\n",
    "dataset_Y = np.asarray([[1,0,1]])\n",
    "\n",
    "deep_parameters = initialize_nn_parameters(params)\n",
    "print(deep_parameters)\n",
    "print(\"----------------------------------------------------------------------------------------------------------------\")\n",
    "deep_parameters = forward_propagation(deep_parameters, dataset_X)\n",
    "depth = len(deep_parameters)\n",
    "out = deep_parameters[depth - 1][3]\n",
    "cost = log_loss_cost(out, dataset_Y)\n",
    "print(cost)\n",
    "\n",
    "derivatives = backward_propagation(deep_parameters, dataset_X, dataset_Y)\n",
    "print(derivatives)\n",
    "\n",
    "\n"
   ]
  },
  {
   "cell_type": "markdown",
   "metadata": {},
   "source": [
    "#### Update Weights and Bias"
   ]
  },
  {
   "cell_type": "code",
   "execution_count": 653,
   "metadata": {},
   "outputs": [],
   "source": [
    "def update(deep_parameters, derivatives, learning_rate):\n",
    "    \"\"\"\n",
    "    Args:\n",
    "        deep_parameters (list of list): list of list containing all parameters of the neural network\n",
    "        derivatives (list of list of numpy array): list of list of derivatives calculated for the neural network\n",
    "        learning_rate (int): the learning rate\n",
    "    \n",
    "    Returns:\n",
    "        deep_parameters (list of list): list of list containing all updated parameters of the neural network\n",
    "    \"\"\"\n",
    "    \n",
    "    assert (len(derivatives)==len(deep_parameters))\n",
    "    \n",
    "    for index in range(len(derivatives)):\n",
    "        # update weight \n",
    "        deep_parameters[index][0] = deep_parameters[index][0] - (learning_rate * derivatives[index][0])\n",
    "        \n",
    "        #update bias\n",
    "        deep_parameters[index][1] = deep_parameters[index][1] - (learning_rate * derivatives[index][1])\n",
    "    \n",
    "    return deep_parameters\n",
    "    "
   ]
  },
  {
   "cell_type": "code",
   "execution_count": 654,
   "metadata": {},
   "outputs": [
    {
     "name": "stdout",
     "output_type": "stream",
     "text": [
      "[[array([[-2, -4],\n",
      "       [-6, -8]]), array([[-8.97777644e-05],\n",
      "       [-6.69349226e-03]]), <function sigmoid at 0x0000020AA643A9D8>], [array([[2, 4],\n",
      "       [6, 8]]), array([[0.00895874],\n",
      "       [0.0010545 ]]), <function sigmoid at 0x0000020AA643A9D8>], [array([[-10.        ,   0.06872504]]), array([[0.10182374]]), <function sigmoid at 0x0000020AA643A9D8>]]\n"
     ]
    }
   ],
   "source": [
    "#test update \n",
    "deep_parameters = [[np.asarray([[ 2,  4 ],\n",
    "       [6, 8]]), np.asarray([[0.],\n",
    "       [0.]]), sigmoid], [np.asarray([[-2,  -4],\n",
    "       [ -6, -8]]), np.asarray([[0.],\n",
    "       [0.]]), sigmoid], [np.asarray([[10, 0]]), np.asarray([[0.]]), sigmoid]]\n",
    "\n",
    "derivatives = [[np.asarray([[2,  4],\n",
    "       [6,  8]]), np.asarray([[4.48888822e-05],\n",
    "       [3.34674613e-03]])], [np.asarray([[-2, -4],\n",
    "       [-6, -8]]), np.asarray([[-0.00447937],\n",
    "       [-0.00052725]])], [np.asarray([[10, -0.03436252]]), np.asarray([[-0.05091187]])]]\n",
    "\n",
    "deep_parameters = update(deep_parameters, derivatives, 2)\n",
    "print(deep_parameters)"
   ]
  },
  {
   "cell_type": "markdown",
   "metadata": {},
   "source": [
    "# Gradient Descent"
   ]
  },
  {
   "cell_type": "code",
   "execution_count": 655,
   "metadata": {},
   "outputs": [],
   "source": [
    "# need to work on cyclic learning rate\n",
    "def gradient_descent(deep_parameters, dataset_X, dataset_Y, learning_rate, iterations):\n",
    "    \"\"\"\n",
    "    Args:\n",
    "        deep_parameters (list of list): list of list containing all parameters of the neural network\n",
    "        dataset_X (numpy array): numpy array containing features of the dataset\n",
    "        dataset_Y (numpy_array): numpy array containing true labels of the dataset\n",
    "        learning_rate (int): the learning rate\n",
    "        iterations (int): no of iterations\n",
    "    Returns:\n",
    "        deep_parameters (list of list): list of list containing all updated parameters of the neural network\n",
    "    \"\"\"\n",
    "    \n",
    "    activation_func = deep_parameters[-1][2]\n",
    "    if activation_func == sigmoid:\n",
    "        cost_function = log_loss_cost\n",
    "    else:\n",
    "        cost_function = cross_entropy_cost\n",
    "    \n",
    "    for iter_no in range(iterations+1):\n",
    "        # forward propagation\n",
    "        deep_parameters = forward_propagation(deep_parameters, dataset_X)\n",
    "        \n",
    "#         #calculate cost\n",
    "#         cost = cost_function(deep_parameters[-1][3])\n",
    "        \n",
    "        # Print the cost every 100 training examples\n",
    "        if iter_no % 100 == 0:\n",
    "#             print(deep_parameters[-1][3].shape)\n",
    "            cost = cost_function(deep_parameters[-1][3], dataset_Y)\n",
    "            print (\"Cost after iteration \"+str(iter_no)+\": \"+ str(cost))\n",
    "            \n",
    "        # back propagation\n",
    "        derivatives = backward_propagation(deep_parameters, dataset_X, dataset_Y)\n",
    "#         print(\"HOLA\")\n",
    "#         print(deep_parameters)\n",
    "#         print(\"-------------------------------------------------\")\n",
    "#         print(derivatives)\n",
    "#         print(\">>>>>>>>>>>>>>>>>>>>>>>>>>>>>>>>>>>>>>>>>>>>>>>>>>>>>>>>>>>>>>>>>>>>>>>>>>>>>>>\")\n",
    "        \n",
    "        #update\n",
    "        deep_parameters = update(deep_parameters, derivatives, learning_rate)\n",
    "    \n",
    "    #Final loss\n",
    "    cost = cost_function(deep_parameters[-1][3], dataset_Y)\n",
    "    print (\"Cost after iteration \"+str(iter_no)+\": \"+ str(cost))\n",
    "    return deep_parameters\n",
    "    \n",
    "        \n",
    "    "
   ]
  },
  {
   "cell_type": "markdown",
   "metadata": {},
   "source": [
    "# Predict"
   ]
  },
  {
   "cell_type": "code",
   "execution_count": 656,
   "metadata": {},
   "outputs": [],
   "source": [
    "def predict(deep_parameters, dataset_X):\n",
    "    \"\"\"\n",
    "    Args:\n",
    "        deep_parameters (list of list): list of list containing all parameters of the neural network\n",
    "        dataset_X (numpy array): numpy array containing features of the dataset\n",
    "    Returns:\n",
    "        final_predict (numpy array): Returns the labelled prediction\n",
    "    \"\"\"\n",
    "    final_predict = None\n",
    "#     deep_parameters = forward_propagation(deep_parameters, dataset_X)\n",
    "#     out_final = deep_parameters[-1][-1]\n",
    "#     out_shape = out_final.shape[0]\n",
    "#     obs = dataset_X.shape[1]\n",
    "\n",
    "    out_final = forward_propagation_fast(deep_parameters, dataset_X)\n",
    "    out_shape = out_final.shape[0]\n",
    "    obs = dataset_X.shape[1]\n",
    "    \n",
    "    if out_shape == 1:\n",
    "        vec_lambda = np.vectorize(lambda x: 1 if x>.5 else 0)\n",
    "        final_predict = vec_lambda(out_final)\n",
    "    else:\n",
    "        final_predict =  np.where(out_final == out_final.max(axis=0), 1, 0)\n",
    "    \n",
    "    return final_predict  "
   ]
  },
  {
   "cell_type": "code",
   "execution_count": 657,
   "metadata": {},
   "outputs": [
    {
     "name": "stdout",
     "output_type": "stream",
     "text": [
      "[[array([[ 0.57075222,  1.01982749, -1.01623361]]), array([[0.]]), <function sigmoid at 0x0000020AA643A9D8>]]\n",
      "[[1 1 0]]\n"
     ]
    }
   ],
   "source": [
    "#test \n",
    "params = [[3,1,sigmoid]]\n",
    "deep_parameters =  initialize_nn_parameters(params)\n",
    "dataset_X = np.asarray([[ 0.5, 0, 0],\n",
    "       [ 0, 0.5, 0],\n",
    "       [0, 0, 0.5]])\n",
    "print(deep_parameters)\n",
    "final_predict = predict(deep_parameters, dataset_X)\n",
    "print(final_predict)"
   ]
  },
  {
   "cell_type": "markdown",
   "metadata": {},
   "source": [
    "# Accuracy"
   ]
  },
  {
   "cell_type": "code",
   "execution_count": 658,
   "metadata": {},
   "outputs": [],
   "source": [
    "def accuracy(final_predict, dataset_Y):\n",
    "    \"\"\"\n",
    "    Args:\n",
    "        final_predict (numpy array): The labelled prediction\n",
    "        dataset_Y (numpy array): numpy array containing true labels of the dataset\n",
    "    Returns:\n",
    "        accuracy (int): The accuracy\n",
    "    \"\"\"\n",
    "    \n",
    "    obs = dataset_Y.shape[1]\n",
    "    dim = dataset_Y.shape[0]\n",
    "    correct_pred = None\n",
    "    if dim == 1:\n",
    "        correct_pred = np.sum(final_predict == dataset_Y)\n",
    "    else:\n",
    "        temp = final_predict + dataset_Y\n",
    "        temp = np.where(temp == 2, 1, 0)\n",
    "        correct_pred = np.sum(temp)\n",
    "        \n",
    "    accuracy = correct_pred/obs\n",
    "    \n",
    "    return accuracy"
   ]
  },
  {
   "cell_type": "code",
   "execution_count": 659,
   "metadata": {},
   "outputs": [
    {
     "name": "stdout",
     "output_type": "stream",
     "text": [
      "0.6666666666666666\n"
     ]
    }
   ],
   "source": [
    "#test accuracy\n",
    "dataset_Y = np.asarray([[0, 1, 1]])\n",
    "final_predict = np.asarray([[0, 0, 1]])\n",
    "print(accuracy(final_predict, dataset_Y))"
   ]
  },
  {
   "cell_type": "markdown",
   "metadata": {},
   "source": [
    "# Learning on non-linearly separable dataset"
   ]
  },
  {
   "cell_type": "markdown",
   "metadata": {},
   "source": [
    "We use the ***make_moons()*** function from *sklearn* to create our non-linearly seperable data in 2-D"
   ]
  },
  {
   "cell_type": "code",
   "execution_count": 660,
   "metadata": {},
   "outputs": [],
   "source": [
    "dataset_X, dataset_Y = make_moons(n_samples=200, shuffle=True, noise=.1, random_state=2)\n",
    "\n",
    "dataset_X = StandardScaler().fit_transform(dataset_X)\n",
    "dataset_X_train, dataset_X_test, dataset_Y_train, dataset_Y_test = train_test_split(dataset_X, dataset_Y, test_size=.1)\n",
    "\n",
    "dataset_Y_train = dataset_Y_train.reshape(180,1)\n",
    "dataset_Y_test = dataset_Y_test.reshape(20,1)"
   ]
  },
  {
   "cell_type": "code",
   "execution_count": 670,
   "metadata": {},
   "outputs": [
    {
     "data": {
      "text/plain": [
       "<matplotlib.collections.PathCollection at 0x20aa3b54b38>"
      ]
     },
     "execution_count": 670,
     "metadata": {},
     "output_type": "execute_result"
    },
    {
     "data": {
      "image/png": "[encoded data removed]",
      "text/plain": [
       "<Figure size 432x288 with 1 Axes>"
      ]
     },
     "metadata": {},
     "output_type": "display_data"
    }
   ],
   "source": [
    "plt.scatter(dataset_X_train[:,0], dataset_X_train[:,1], c = dataset_Y_train[:,0], edgecolors='black', cmap=plt.cm.Spectral)"
   ]
  },
  {
   "cell_type": "code",
   "execution_count": 663,
   "metadata": {},
   "outputs": [
    {
     "name": "stdout",
     "output_type": "stream",
     "text": [
      "Cost after iteration 0: 0.7516886468365828\n",
      "Cost after iteration 100: 0.3479976003467392\n",
      "Cost after iteration 200: 0.30662593860735926\n",
      "Cost after iteration 300: 0.2862525545054026\n",
      "Cost after iteration 400: 0.27695977857002907\n",
      "Cost after iteration 500: 0.2710370090560534\n",
      "Cost after iteration 600: 0.26616362613453876\n",
      "Cost after iteration 700: 0.26190648606135025\n",
      "Cost after iteration 800: 0.2581589580553056\n",
      "Cost after iteration 900: 0.2539121982920704\n",
      "Cost after iteration 1000: 0.2496215598298876\n",
      "Cost after iteration 1000: 0.2496215598298876\n"
     ]
    }
   ],
   "source": [
    "#params \n",
    "# 2->2Relu->1Sigmoid\n",
    "params = [[2,2,relu],[2,1,sigmoid]]\n",
    "deep_parameters = initialize_nn_parameters(params)\n",
    "\n",
    "#train NN\n",
    "deep_parameters = gradient_descent(deep_parameters, dataset_X_train.T, dataset_Y_train.T, 0.08, 1000)"
   ]
  },
  {
   "cell_type": "code",
   "execution_count": 664,
   "metadata": {},
   "outputs": [
    {
     "name": "stdout",
     "output_type": "stream",
     "text": [
      "0.85\n"
     ]
    }
   ],
   "source": [
    "#accuracy\n",
    "prediction_test = predict(deep_parameters, dataset_X_test.T)\n",
    "acc = accuracy(prediction_test, dataset_Y_test.T)\n",
    "print(acc)"
   ]
  },
  {
   "cell_type": "markdown",
   "metadata": {},
   "source": [
    "# Plot Decision Boundary 2D"
   ]
  },
  {
   "cell_type": "markdown",
   "metadata": {},
   "source": [
    "The dcision boundary is complex for even a simple network like 2->2*Relu*->1*Sigmoid*. The only way to plot this is by including the 3rd plane Z. The idea is to generate points on the 2d grid **https://stackoverflow.com/questions/36013063/what-is-the-purpose-of-meshgrid-in-python-numpy**. Then, we can predict values for all the points the grid. Now each point in the mesh is mapped to 0 or 1 in the Z plane. Finally, we make a contour plot on the 2D surface to capture the decision boundary. "
   ]
  },
  {
   "cell_type": "code",
   "execution_count": 672,
   "metadata": {},
   "outputs": [],
   "source": [
    "def plot_decision_boundary(deep_parameters, dataset_X, dataset_Y):\n",
    "    #1. We neeed max and min values for both x and y\n",
    "    # Set min and max values of the grid and give it some padding\n",
    "    x_min, x_max = dataset_X[:, 0].min() - 1, dataset_X[:, 0].max() + 1\n",
    "    y_min, y_max = dataset_X[:, 1].min() - 1, dataset_X[:, 1].max() + 1\n",
    "    h = 0.01\n",
    "    \n",
    "    # Generate a grid of points with distance h between them\n",
    "    xx, yy = np.meshgrid(np.arange(x_min, x_max, h), np.arange(y_min, y_max, h))\n",
    "    \n",
    "    # Predict the function value for the whole grid\n",
    "    grid_data = np.c_[xx.ravel(), yy.ravel()] #we need ravel because xx and yy will 2D\n",
    "    pred_final = predict(deep_parameters, grid_data.T)\n",
    "    pred_final = pred_final.reshape(xx.shape)\n",
    "    \n",
    "    # Plot the contour and training examples\n",
    "    plt.contourf(xx, yy, pred_final, cmap=plt.cm.Spectral)\n",
    "    plt.ylabel('x2')\n",
    "    plt.xlabel('x1')\n",
    "    print(dataset_Y[:,0].shape)\n",
    "    plt.scatter(dataset_X[:,0], dataset_X[:,1], c = dataset_Y[:,0], edgecolors='black',cmap=plt.cm.Spectral)"
   ]
  },
  {
   "cell_type": "code",
   "execution_count": 673,
   "metadata": {},
   "outputs": [
    {
     "name": "stdout",
     "output_type": "stream",
     "text": [
      "(180,)\n"
     ]
    },
    {
     "data": {
      "image/png": "[encoded data removed]",
      "text/plain": [
       "<Figure size 432x288 with 1 Axes>"
      ]
     },
     "metadata": {},
     "output_type": "display_data"
    }
   ],
   "source": [
    "plot_decision_boundary(deep_parameters, dataset_X_train, dataset_Y_train)"
   ]
  },
  {
   "cell_type": "markdown",
   "metadata": {},
   "source": [
    "# Trying a more complex NN on the same dataset"
   ]
  },
  {
   "cell_type": "code",
   "execution_count": 681,
   "metadata": {},
   "outputs": [
    {
     "name": "stdout",
     "output_type": "stream",
     "text": [
      "Cost after iteration 0: 0.6783853307211288\n",
      "Cost after iteration 100: 0.28314375670727016\n",
      "Cost after iteration 200: 0.25183004414486176\n",
      "Cost after iteration 300: 0.21439308991339773\n",
      "Cost after iteration 400: 0.15167554576335748\n",
      "Cost after iteration 500: 0.07589253024869674\n",
      "Cost after iteration 600: 0.03720062353920283\n",
      "Cost after iteration 700: 0.021376621541625302\n",
      "Cost after iteration 800: 0.014294461403857777\n",
      "Cost after iteration 900: 0.010435819920239994\n",
      "Cost after iteration 1000: 0.007783813050191955\n",
      "Cost after iteration 1000: 0.007783813050191955\n"
     ]
    }
   ],
   "source": [
    "#params \n",
    "# 2->2Relu->1Sigmoid\n",
    "params = [[2,20,relu],[20,10,relu],[10,2,relu],[2,1,sigmoid]]\n",
    "deep_parameters = initialize_nn_parameters(params)\n",
    "\n",
    "#train NN\n",
    "deep_parameters = gradient_descent(deep_parameters, dataset_X_train.T, dataset_Y_train.T, 0.08, 1000)"
   ]
  },
  {
   "cell_type": "code",
   "execution_count": 682,
   "metadata": {},
   "outputs": [
    {
     "name": "stdout",
     "output_type": "stream",
     "text": [
      "1.0\n"
     ]
    }
   ],
   "source": [
    "#accuracy\n",
    "prediction_test = predict(deep_parameters, dataset_X_test.T)\n",
    "acc = accuracy(prediction_test, dataset_Y_test.T)\n",
    "print(acc)"
   ]
  },
  {
   "cell_type": "code",
   "execution_count": 683,
   "metadata": {},
   "outputs": [
    {
     "name": "stdout",
     "output_type": "stream",
     "text": [
      "(180,)\n"
     ]
    },
    {
     "data": {
      "image/png": "[encoded data removed]",
      "text/plain": [
       "<Figure size 432x288 with 1 Axes>"
      ]
     },
     "metadata": {},
     "output_type": "display_data"
    }
   ],
   "source": [
    "plot_decision_boundary(deep_parameters, dataset_X_train, dataset_Y_train)"
   ]
  },
  {
   "cell_type": "markdown",
   "metadata": {},
   "source": [
    "That was overkill!!"
   ]
  }
 ],
 "metadata": {
  "kernelspec": {
   "display_name": "Python 3",
   "language": "python",
   "name": "python3"
  },
  "language_info": {
   "codemirror_mode": {
    "name": "ipython",
    "version": 3
   },
   "file_extension": ".py",
   "mimetype": "text/x-python",
   "name": "python",
   "nbconvert_exporter": "python",
   "pygments_lexer": "ipython3",
   "version": "3.6.5"
  }
 },
 "nbformat": 4,
 "nbformat_minor": 2
}
